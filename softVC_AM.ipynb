{
  "cells": [
    {
      "cell_type": "markdown",
      "metadata": {
        "id": "4oWm0zXecPh6"
      },
      "source": [
        "# SoftVC Acoustic Model\n",
        "[![Generic badge](https://img.shields.io/badge/GitHub-softVCam-9cf.svg)][github]\n",
        "[![Open In Colab](https://colab.research.google.com/assets/colab-badge.svg)][notebook]\n",
        "\n",
        "Author: [tarepan]\n",
        "\n",
        "[github]:https://github.com/tarepan/softVC_AM\n",
        "[notebook]:https://colab.research.google.com/github/tarepan/softVC_AM/blob/main/softVC_AM.ipynb\n",
        "[tarepan]:https://github.com/tarepan"
      ]
    },
    {
      "cell_type": "markdown",
      "metadata": {
        "id": "QFQivUIyZyYi"
      },
      "source": [
        "## Colab Check\n",
        "Check\n",
        "- Google Colaboratory runnning time\n",
        "- GPU type\n",
        "- Python version\n",
        "- CUDA version"
      ]
    },
    {
      "cell_type": "code",
      "execution_count": null,
      "metadata": {
        "id": "4cwyMoXOZ7e1",
        "vscode": {
          "languageId": "python"
        }
      },
      "outputs": [],
      "source": [
        "!cat /proc/uptime | awk '{print $1 /60 /60 /24 \"days (\" $1 \"sec)\"}'\n",
        "!head -n 1 /proc/driver/nvidia/gpus/**/information\n",
        "!python --version\n",
        "!pip show torch | sed '2!d'\n",
        "!/usr/local/cuda/bin/nvcc --version | sed '4!d'"
      ]
    },
    {
      "cell_type": "markdown",
      "metadata": {
        "id": "K125Ein7VCwM"
      },
      "source": [
        "## Setup"
      ]
    },
    {
      "cell_type": "markdown",
      "metadata": {
        "id": "LJCLLQ_8cPiM"
      },
      "source": [
        "Install the package from `tarepan/softVC_AM` public repository"
      ]
    },
    {
      "cell_type": "code",
      "execution_count": null,
      "metadata": {
        "id": "wZ9fU-17Sdxb",
        "vscode": {
          "languageId": "python"
        }
      },
      "outputs": [],
      "source": [
        "# GoogleDrive\n",
        "from google.colab import drive\n",
        "drive.mount('/content/gdrive')\n",
        "\n",
        "# Dedicated dependencies install\n",
        "# !pip install \"torch==1.10.0\" -q      # Based on your PyTorch environment\n",
        "# !pip install \"torchaudio==0.10.0\" -q # Based on your PyTorch environment\n",
        "\n",
        "!git clone https://github.com/tarepan/softVC_AM\n",
        "%cd softVC_AM\n",
        "# repository install\n",
        "# !pip uninstall softvcam -y -q\n",
        "# !pip install git+https://github.com/tarepan/softVC_AM -q"
      ]
    },
    {
      "cell_type": "markdown",
      "metadata": {
        "id": "ptA8A-dhEgqZ"
      },
      "source": [
        "## Training"
      ]
    },
    {
      "cell_type": "code",
      "execution_count": null,
      "metadata": {
        "id": "FKIasW5cTqhl",
        "vscode": {
          "languageId": "python"
        }
      },
      "outputs": [],
      "source": [
        "# Launch TensorBoard\n",
        "%load_ext tensorboard\n",
        "%tensorboard --logdir gdrive/MyDrive/ML_results/softVC_AM\n",
        "\n",
        "# Train\n",
        "# !python -m s3prlvc.main_train \\\n",
        "#     train.ckpt_log.dir_root=gdrive/MyDrive/ML_results/s3prlvc \\\n",
        "#     train.ckpt_log.name_exp=default \\\n",
        "#     train.ckpt_log.name_version=version_default \\\n",
        "#     data.adress_data_root=gdrive/MyDrive/ML_data \\\n"
      ]
    },
    {
      "cell_type": "markdown",
      "metadata": {
        "id": "zxWfhUW4NZmW"
      },
      "source": [
        "## Inference"
      ]
    },
    {
      "cell_type": "markdown",
      "metadata": {},
      "source": [
        "### Unit-to-Mel"
      ]
    },
    {
      "cell_type": "markdown",
      "metadata": {},
      "source": [
        "#### Step 0: Wave-to-Unit\n",
        "If you do NOT have unit .npy, first generate it."
      ]
    },
    {
      "cell_type": "code",
      "execution_count": null,
      "metadata": {
        "vscode": {
          "languageId": "python"
        }
      },
      "outputs": [],
      "source": [
        "!pip install git+https://github.com/tarepan/softVC_hubert"
      ]
    },
    {
      "cell_type": "code",
      "execution_count": null,
      "metadata": {
        "vscode": {
          "languageId": "python"
        }
      },
      "outputs": [],
      "source": [
        "from pathlib import Path\n",
        "from hubert.encode import encode_dataset\n",
        "\n",
        "\n",
        "#### Change here for your data ###########################\n",
        "in_wav_dir = Path(\"./data_softVC/wavs\")    # Directory containing .wav input files\n",
        "out_unit_dir = Path(\"./data_softVC/units\") # Directory in which new unit series will be saved\n",
        "##########################################################\n",
        "\n",
        "out_unit_dir.mkdir(parents=True, exist_ok=True)\n",
        "encode_dataset(\"soft\", in_wav_dir, out_unit_dir, \".wav\")\n"
      ]
    },
    {
      "cell_type": "markdown",
      "metadata": {},
      "source": [
        "#### Step 1: Unit-to-Mel"
      ]
    },
    {
      "cell_type": "code",
      "execution_count": null,
      "metadata": {
        "id": "MZ3bLy99NZmW",
        "vscode": {
          "languageId": "python"
        }
      },
      "outputs": [],
      "source": [
        "!python ./generate.py soft <in-unit-dir> <out-mel-dir>\n",
        "# !python ./generate.py soft \"./data_softVC/units\" \"./data_softVC/mspcs\" # For example"
      ]
    }
  ],
  "metadata": {
    "accelerator": "GPU",
    "colab": {
      "collapsed_sections": [],
      "name": "softVC_AM.ipynb",
      "private_outputs": true,
      "provenance": []
    },
    "kernelspec": {
      "display_name": "Python 3",
      "name": "python3"
    }
  },
  "nbformat": 4,
  "nbformat_minor": 0
}
